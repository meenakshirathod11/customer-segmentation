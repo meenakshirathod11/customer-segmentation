{
 "cells": [
  {
   "cell_type": "code",
   "execution_count": null,
   "id": "6cd33775",
   "metadata": {},
   "outputs": [],
   "source": [
    "import pandas as pd\n",
    "df = pd.read_csv('mall_customers.csv')\n",
    "df.head()\n"
   ]
  }
 ],
 "metadata": {
  "language_info": {
   "name": "python"
  }
 },
 "nbformat": 4,
 "nbformat_minor": 5
}
